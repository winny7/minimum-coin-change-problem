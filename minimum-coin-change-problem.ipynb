{
 "cells": [
  {
   "cell_type": "code",
   "execution_count": 13,
   "metadata": {
    "collapsed": true
   },
   "outputs": [],
   "source": [
    "def rec_coin(target, coins, min_coins = None):\n",
    "    \n",
    "    if min_coins == None:\n",
    "        min_coins = 0\n",
    "    \n",
    "    coins.sort(reverse=True)\n",
    "    \n",
    "    if target in coins:\n",
    "        return 1\n",
    "    \n",
    "    else:\n",
    "        \n",
    "        truncated_list = [c for c in coins if c <= target]\n",
    "        \n",
    "        if truncated_list != []:\n",
    "        \n",
    "            for i in truncated_list:\n",
    "\n",
    "                if (target % i == 0):\n",
    "                    return int(target / i)\n",
    "\n",
    "                else:\n",
    "                    a = coins[:]\n",
    "                    a.remove(i)\n",
    "                    try:\n",
    "                        min_coins = (int(target/i)) + rec_coin(target%i, a, min_coins)\n",
    "                    except TypeError:\n",
    "                        return \"Target value cannot be achieved from the given list of coins\"\n",
    "                    break\n",
    "                    \n",
    "        else:\n",
    "            return \"Target value cannot be achieved from the given list of coins\"\n",
    "\n",
    "    return min_coins\n",
    "\n",
    "            "
   ]
  },
  {
   "cell_type": "code",
   "execution_count": 14,
   "metadata": {
    "collapsed": false
   },
   "outputs": [
    {
     "data": {
      "text/plain": [
       "7"
      ]
     },
     "execution_count": 14,
     "metadata": {},
     "output_type": "execute_result"
    }
   ],
   "source": [
    "rec_coin(64,[1,5,10,25])"
   ]
  },
  {
   "cell_type": "code",
   "execution_count": 15,
   "metadata": {
    "collapsed": false
   },
   "outputs": [
    {
     "data": {
      "text/plain": [
       "8"
      ]
     },
     "execution_count": 15,
     "metadata": {},
     "output_type": "execute_result"
    }
   ],
   "source": [
    "rec_coin(74,[1,5,10,25])"
   ]
  },
  {
   "cell_type": "code",
   "execution_count": 16,
   "metadata": {
    "collapsed": false
   },
   "outputs": [
    {
     "data": {
      "text/plain": [
       "'Target value cannot be achieved from the given list of coins'"
      ]
     },
     "execution_count": 16,
     "metadata": {},
     "output_type": "execute_result"
    }
   ],
   "source": [
    "rec_coin(74,[5,10,25])"
   ]
  },
  {
   "cell_type": "code",
   "execution_count": null,
   "metadata": {
    "collapsed": true
   },
   "outputs": [],
   "source": []
  }
 ],
 "metadata": {
  "kernelspec": {
   "display_name": "Python 3",
   "language": "python",
   "name": "python3"
  },
  "language_info": {
   "codemirror_mode": {
    "name": "ipython",
    "version": 3
   },
   "file_extension": ".py",
   "mimetype": "text/x-python",
   "name": "python",
   "nbconvert_exporter": "python",
   "pygments_lexer": "ipython3",
   "version": "3.5.2"
  }
 },
 "nbformat": 4,
 "nbformat_minor": 2
}
